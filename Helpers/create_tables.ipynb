{
 "cells": [
  {
   "cell_type": "markdown",
   "metadata": {},
   "source": [
    "# Notebook helper to create Redshift tables"
   ]
  },
  {
   "cell_type": "code",
   "execution_count": 1,
   "metadata": {},
   "outputs": [],
   "source": [
    "%load_ext sql"
   ]
  },
  {
   "cell_type": "code",
   "execution_count": 2,
   "metadata": {},
   "outputs": [],
   "source": [
    "import boto3\n",
    "import configparser\n",
    "import pandas as pd"
   ]
  },
  {
   "cell_type": "markdown",
   "metadata": {},
   "source": [
    "#### Set verbosity to 0|1|2 (default=0)"
   ]
  },
  {
   "cell_type": "code",
   "execution_count": 3,
   "metadata": {},
   "outputs": [],
   "source": [
    "VERBOSE = 1"
   ]
  },
  {
   "cell_type": "markdown",
   "metadata": {},
   "source": [
    "## STEP-1: Load cluster parameters from `myDWH.cfg`"
   ]
  },
  {
   "cell_type": "code",
   "execution_count": 4,
   "metadata": {},
   "outputs": [
    {
     "ename": "FileNotFoundError",
     "evalue": "[Errno 2] No such file or directory: 'myDWH.cfg'",
     "output_type": "error",
     "traceback": [
      "\u001b[0;31m---------------------------------------------------------------------------\u001b[0m",
      "\u001b[0;31mFileNotFoundError\u001b[0m                         Traceback (most recent call last)",
      "\u001b[0;32m<ipython-input-4-902fb1fe8b70>\u001b[0m in \u001b[0;36m<module>\u001b[0;34m()\u001b[0m\n\u001b[1;32m      1\u001b[0m \u001b[0mconfig\u001b[0m \u001b[0;34m=\u001b[0m \u001b[0mconfigparser\u001b[0m\u001b[0;34m.\u001b[0m\u001b[0mConfigParser\u001b[0m\u001b[0;34m(\u001b[0m\u001b[0;34m)\u001b[0m\u001b[0;34m\u001b[0m\u001b[0m\n\u001b[0;32m----> 2\u001b[0;31m \u001b[0mconfig\u001b[0m\u001b[0;34m.\u001b[0m\u001b[0mread_file\u001b[0m\u001b[0;34m(\u001b[0m\u001b[0mopen\u001b[0m\u001b[0;34m(\u001b[0m\u001b[0;34m'myDWH.cfg'\u001b[0m\u001b[0;34m)\u001b[0m\u001b[0;34m)\u001b[0m\u001b[0;34m\u001b[0m\u001b[0m\n\u001b[0m\u001b[1;32m      3\u001b[0m \u001b[0;34m\u001b[0m\u001b[0m\n\u001b[1;32m      4\u001b[0m \u001b[0;31m# Retrieve the USER-related  parameters\u001b[0m\u001b[0;34m\u001b[0m\u001b[0;34m\u001b[0m\u001b[0m\n\u001b[1;32m      5\u001b[0m \u001b[0mUSR_KEY\u001b[0m                \u001b[0;34m=\u001b[0m \u001b[0mconfig\u001b[0m\u001b[0;34m.\u001b[0m\u001b[0mget\u001b[0m\u001b[0;34m(\u001b[0m\u001b[0;34m'USR'\u001b[0m\u001b[0;34m,\u001b[0m\u001b[0;34m'USR_KEY'\u001b[0m\u001b[0;34m)\u001b[0m\u001b[0;34m\u001b[0m\u001b[0m\n",
      "\u001b[0;31mFileNotFoundError\u001b[0m: [Errno 2] No such file or directory: 'myDWH.cfg'"
     ]
    }
   ],
   "source": [
    "config = configparser.ConfigParser()\n",
    "config.read_file(open('../myDWH.cfg'))\n",
    "\n",
    "# Retrieve the USER-related  parameters\n",
    "USR_KEY                = config.get('USR','USR_KEY')\n",
    "USR_SECRET             = config.get('USR','USR_SECRET')\n",
    "\n",
    "# Retrieve the AWS-related  parameters\n",
    "AWS_REGION             = config.get('AWS','AWS_REGION')\n",
    "\n",
    "# Retrieve the CLUSTER-related  parameters\n",
    "CLUSTER_NAME           = config.get(\"CLUSTER\",\"CLUSTER_NAME\")\n",
    "CLUSTER_TYPE           = config.get(\"CLUSTER\",\"CLUSTER_TYPE\")\n",
    "CLUSTER_NODE_TYPE      = config.get(\"CLUSTER\",\"CLUSTER_NODE_TYPE\")\n",
    "CLUSTER_NODE_COUNT     = config.get(\"CLUSTER\",\"CLUSTER_NODE_COUNT\")\n",
    "\n",
    "CLUSTER_DB_NAME        = config.get(\"CLUSTER\",\"CLUSTER_DB_NAME\")\n",
    "CLUSTER_DB_USER        = config.get(\"CLUSTER\",\"CLUSTER_DB_USER\")\n",
    "CLUSTER_DB_PASSWORD    = config.get(\"CLUSTER\",\"CLUSTER_DB_PASSWORD\")\n",
    "CLUSTER_DB_PORT        = config.get(\"CLUSTER\",\"CLUSTER_DB_PORT\")\n",
    "\n",
    "# Retrieve the IAM-related parameters\n",
    "AWS_RESOURCE_NAME      = config.get(\"IAM_ROLE\", \"AWS_RESOURCE_NAME\")\n",
    "\n",
    "(CLUSTER_DB_USER, CLUSTER_DB_PASSWORD, CLUSTER_DB_NAME)\n",
    "\n",
    "if VERBOSE > 0:\n",
    "    df = pd.DataFrame({\"Param\":\n",
    "                       [\"CLUSTER_TYPE\", \"CLUSTER_NODE_COUNT\", \"CLUSTER_NODE_TYPE\", \"CLUSTER_NAME\", \"CLUSTER_DB_NAME\", \"CLUSTER_DB_USER\", \"CLUSTER_DB_PASSWORD\", \"CLUSTER_DB_PORT\", \"AWS_RESOURCE_NAME\", \"AWS_REGION\"],\n",
    "                       \"Value\":\n",
    "                       [ CLUSTER_TYPE ,  CLUSTER_NODE_COUNT ,  CLUSTER_NODE_TYPE ,  CLUSTER_NAME ,  CLUSTER_DB_NAME ,  CLUSTER_DB_USER ,  CLUSTER_DB_PASSWORD ,  CLUSTER_DB_PORT ,  AWS_RESOURCE_NAME ,  AWS_REGION ]\n",
    "                      })\n",
    "    print(df)"
   ]
  },
  {
   "cell_type": "markdown",
   "metadata": {},
   "source": [
    "## STEP-2: Create a client for Redshift and IAM"
   ]
  },
  {
   "cell_type": "code",
   "execution_count": null,
   "metadata": {},
   "outputs": [],
   "source": [
    "if VERBOSE > 0:\n",
    "    print(\"Create clients for Redshift and IAM\")\n",
    "\n",
    "redshift = boto3.client('redshift',\n",
    "                       region_name=AWS_REGION,\n",
    "                       aws_access_key_id=USR_KEY,\n",
    "                       aws_secret_access_key=USR_SECRET\n",
    "                       )\n",
    "\n",
    "iam = boto3.client('iam',aws_access_key_id=USR_KEY,\n",
    "                     aws_secret_access_key=USR_SECRET,\n",
    "                     region_name=AWS_REGION\n",
    "                  )"
   ]
  },
  {
   "cell_type": "markdown",
   "metadata": {},
   "source": [
    "## STEP-3: Retrieve ENDPOINT and IAM Role ARN "
   ]
  },
  {
   "cell_type": "code",
   "execution_count": null,
   "metadata": {},
   "outputs": [],
   "source": [
    "# from Redshift.Client.exceptions import ClusterNotFound\n",
    "from botocore.exceptions import ClientError\n",
    "\n",
    "try:\n",
    "    # Describe the created cluster\n",
    "    cluster_props = redshift.describe_clusters(ClusterIdentifier=CLUSTER_NAME)['Clusters'][0]\n",
    "except ClientError as ce:\n",
    "    if ce.response['Error']['Code'] == 'ClusterNotFound':\n",
    "        print(\"ERROR: The cluster \\'%s\\' does not exist!\" % CLUSTER_NAME)\n",
    "    else:\n",
    "        print(\"Unexpected error: %s\" % ce)\n",
    "else:\n",
    "    CLUSTER_ENDPOINT = cluster_props['Endpoint']['Address']\n",
    "    CLUSTER_ROLE_ARN = cluster_props['IamRoles'][0]['IamRoleArn']\n",
    "    if VERBOSE > 0:\n",
    "        # Display the cluster endpoint and role ARN \n",
    "        print(\"\\nFYI: This is the created cluster ENDPOINT and cluster Role ARN\")\n",
    "        print(\"\\tCLUSTER_ENDPOINT :: \", CLUSTER_ENDPOINT)\n",
    "        print(\"\\tCLUSTER_ROLE_ARN :: \", CLUSTER_ROLE_ARN)\n",
    "        "
   ]
  },
  {
   "cell_type": "markdown",
   "metadata": {},
   "source": [
    "## STEP-4: Connect to Retrieve ENDPOINT and IAM Role ARN "
   ]
  },
  {
   "cell_type": "code",
   "execution_count": null,
   "metadata": {},
   "outputs": [],
   "source": []
  },
  {
   "cell_type": "code",
   "execution_count": null,
   "metadata": {},
   "outputs": [],
   "source": []
  },
  {
   "cell_type": "code",
   "execution_count": null,
   "metadata": {},
   "outputs": [],
   "source": []
  }
 ],
 "metadata": {
  "kernelspec": {
   "display_name": "Python 3",
   "language": "python",
   "name": "python3"
  },
  "language_info": {
   "codemirror_mode": {
    "name": "ipython",
    "version": 3
   },
   "file_extension": ".py",
   "mimetype": "text/x-python",
   "name": "python",
   "nbconvert_exporter": "python",
   "pygments_lexer": "ipython3",
   "version": "3.6.3"
  }
 },
 "nbformat": 4,
 "nbformat_minor": 2
}
