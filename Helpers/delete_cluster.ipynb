{
 "cells": [
  {
   "cell_type": "markdown",
   "metadata": {},
   "source": [
    "# Notebook to delete an AWS Redshift cluster"
   ]
  },
  {
   "cell_type": "code",
   "execution_count": 1,
   "metadata": {},
   "outputs": [],
   "source": [
    "import pandas as pd\n",
    "import boto3\n",
    "import json"
   ]
  },
  {
   "cell_type": "markdown",
   "metadata": {},
   "source": [
    "#### Set verbosity to 0|1|2 (default=0)"
   ]
  },
  {
   "cell_type": "code",
   "execution_count": 2,
   "metadata": {},
   "outputs": [],
   "source": [
    "VERBOSE = 1"
   ]
  },
  {
   "cell_type": "markdown",
   "metadata": {},
   "source": [
    "## STEP-1:  Load cluster parameters from `myDWH.cfg`"
   ]
  },
  {
   "cell_type": "code",
   "execution_count": 3,
   "metadata": {},
   "outputs": [
    {
     "name": "stdout",
     "output_type": "stream",
     "text": [
      "                 Param       Value\n",
      "0         CLUSTER_TYPE  multi-node\n",
      "1   CLUSTER_NODE_COUNT           2\n",
      "2    CLUSTER_NODE_TYPE   dc2.large\n",
      "3         CLUSTER_NAME  dwhCluster\n",
      "4      CLUSTER_DB_NAME         dwh\n",
      "5      CLUSTER_DB_USER     dwhuser\n",
      "6  CLUSTER_DB_PASSWORD    Passw0rd\n",
      "7      CLUSTER_DB_PORT        5439\n",
      "8    AWS_RESOURCE_NAME     dwhRole\n",
      "9           AWS_REGION   us-west-2\n"
     ]
    }
   ],
   "source": [
    "import configparser\n",
    "config = configparser.ConfigParser()\n",
    "config.read_file(open('myDWH.cfg'))\n",
    "\n",
    "# Retrieve the USER-related  parameters\n",
    "USR_KEY                = config.get('USR','USR_KEY')\n",
    "USR_SECRET             = config.get('USR','USR_SECRET')\n",
    "\n",
    "# Retrieve the AWS-related  parameters\n",
    "AWS_REGION             = config.get('AWS','AWS_REGION')\n",
    "\n",
    "# Retrieve the CLUSTER-related  parameters\n",
    "CLUSTER_NAME           = config.get(\"CLUSTER\",\"CLUSTER_NAME\")\n",
    "CLUSTER_TYPE           = config.get(\"CLUSTER\",\"CLUSTER_TYPE\")\n",
    "CLUSTER_NODE_TYPE      = config.get(\"CLUSTER\",\"CLUSTER_NODE_TYPE\")\n",
    "CLUSTER_NODE_COUNT     = config.get(\"CLUSTER\",\"CLUSTER_NODE_COUNT\")\n",
    "\n",
    "CLUSTER_DB_NAME        = config.get(\"CLUSTER\",\"CLUSTER_DB_NAME\")\n",
    "CLUSTER_DB_USER        = config.get(\"CLUSTER\",\"CLUSTER_DB_USER\")\n",
    "CLUSTER_DB_PASSWORD    = config.get(\"CLUSTER\",\"CLUSTER_DB_PASSWORD\")\n",
    "CLUSTER_DB_PORT        = config.get(\"CLUSTER\",\"CLUSTER_DB_PORT\")\n",
    "\n",
    "# Retrieve the IAM-related parameters\n",
    "AWS_RESOURCE_NAME      = config.get(\"IAM_ROLE\", \"AWS_RESOURCE_NAME\")\n",
    "\n",
    "(CLUSTER_DB_USER, CLUSTER_DB_PASSWORD, CLUSTER_DB_NAME)\n",
    "\n",
    "if VERBOSE > 0:\n",
    "    df = pd.DataFrame({\"Param\":\n",
    "                       [\"CLUSTER_TYPE\", \"CLUSTER_NODE_COUNT\", \"CLUSTER_NODE_TYPE\", \"CLUSTER_NAME\", \"CLUSTER_DB_NAME\", \"CLUSTER_DB_USER\", \"CLUSTER_DB_PASSWORD\", \"CLUSTER_DB_PORT\", \"AWS_RESOURCE_NAME\", \"AWS_REGION\"],\n",
    "                       \"Value\":\n",
    "                       [ CLUSTER_TYPE ,  CLUSTER_NODE_COUNT ,  CLUSTER_NODE_TYPE ,  CLUSTER_NAME ,  CLUSTER_DB_NAME ,  CLUSTER_DB_USER ,  CLUSTER_DB_PASSWORD ,  CLUSTER_DB_PORT ,  AWS_RESOURCE_NAME ,  AWS_REGION ]\n",
    "                      })\n",
    "    print(df)"
   ]
  },
  {
   "cell_type": "markdown",
   "metadata": {},
   "source": [
    "## STEP-2: Create a client for Redshift and IAM"
   ]
  },
  {
   "cell_type": "code",
   "execution_count": 4,
   "metadata": {},
   "outputs": [
    {
     "name": "stdout",
     "output_type": "stream",
     "text": [
      "Create clients for Redshift and IAM\n"
     ]
    }
   ],
   "source": [
    "if VERBOSE > 0:\n",
    "    print(\"Create clients for Redshift and IAM\")\n",
    "\n",
    "redshift = boto3.client('redshift',\n",
    "                       region_name=AWS_REGION,\n",
    "                       aws_access_key_id=USR_KEY,\n",
    "                       aws_secret_access_key=USR_SECRET\n",
    "                       )\n",
    "\n",
    "iam = boto3.client('iam',aws_access_key_id=USR_KEY,\n",
    "                     aws_secret_access_key=USR_SECRET,\n",
    "                     region_name=AWS_REGION\n",
    "                  )"
   ]
  },
  {
   "cell_type": "markdown",
   "metadata": {},
   "source": [
    "## STEP-3: Clean up the running cluster"
   ]
  },
  {
   "cell_type": "markdown",
   "metadata": {},
   "source": [
    "<b><font color='red'>DO NOT RUN THIS UNLESS YOU ARE SURE <br/>"
   ]
  },
  {
   "cell_type": "code",
   "execution_count": 5,
   "metadata": {},
   "outputs": [
    {
     "data": {
      "text/plain": [
       "{'Cluster': {'ClusterIdentifier': 'dwhcluster',\n",
       "  'NodeType': 'dc2.large',\n",
       "  'ClusterStatus': 'deleting',\n",
       "  'MasterUsername': 'dwhuser',\n",
       "  'DBName': 'dwh',\n",
       "  'Endpoint': {'Address': 'dwhcluster.c4p6b3uqdbp8.us-west-2.redshift.amazonaws.com',\n",
       "   'Port': 5439},\n",
       "  'ClusterCreateTime': datetime.datetime(2023, 6, 8, 16, 44, 33, 239000, tzinfo=tzlocal()),\n",
       "  'AutomatedSnapshotRetentionPeriod': 1,\n",
       "  'ClusterSecurityGroups': [],\n",
       "  'VpcSecurityGroups': [{'VpcSecurityGroupId': 'sg-001ef50f88654cbd0',\n",
       "    'Status': 'active'}],\n",
       "  'ClusterParameterGroups': [{'ParameterGroupName': 'default.redshift-1.0',\n",
       "    'ParameterApplyStatus': 'in-sync'}],\n",
       "  'ClusterSubnetGroupName': 'default',\n",
       "  'VpcId': 'vpc-040a5b8903624d5ca',\n",
       "  'AvailabilityZone': 'us-west-2d',\n",
       "  'PreferredMaintenanceWindow': 'mon:08:00-mon:08:30',\n",
       "  'PendingModifiedValues': {},\n",
       "  'ClusterVersion': '1.0',\n",
       "  'AllowVersionUpgrade': True,\n",
       "  'NumberOfNodes': 2,\n",
       "  'PubliclyAccessible': True,\n",
       "  'Encrypted': False,\n",
       "  'Tags': [],\n",
       "  'EnhancedVpcRouting': False,\n",
       "  'IamRoles': [{'IamRoleArn': 'arn:aws:iam::449575054145:role/dwhRole',\n",
       "    'ApplyStatus': 'in-sync'}],\n",
       "  'MaintenanceTrackName': 'current'},\n",
       " 'ResponseMetadata': {'RequestId': 'e7e3a49e-76e2-4990-93b4-8ae05438cc3c',\n",
       "  'HTTPStatusCode': 200,\n",
       "  'HTTPHeaders': {'x-amzn-requestid': 'e7e3a49e-76e2-4990-93b4-8ae05438cc3c',\n",
       "   'content-type': 'text/xml',\n",
       "   'content-length': '2711',\n",
       "   'date': 'Thu, 08 Jun 2023 22:14:23 GMT'},\n",
       "  'RetryAttempts': 0}}"
      ]
     },
     "execution_count": 5,
     "metadata": {},
     "output_type": "execute_result"
    }
   ],
   "source": [
    "#### CAREFUL - This delete the created resources\n",
    "redshift.delete_cluster( ClusterIdentifier=CLUSTER_NAME,  SkipFinalClusterSnapshot=True)\n",
    "#### CAREFUL!!"
   ]
  },
  {
   "cell_type": "markdown",
   "metadata": {},
   "source": [
    "## STEP-4: Wait for the cluster to be deleted"
   ]
  },
  {
   "cell_type": "markdown",
   "metadata": {},
   "source": [
    "- Run this block several times until the cluster really deleted"
   ]
  },
  {
   "cell_type": "code",
   "execution_count": 6,
   "metadata": {},
   "outputs": [
    {
     "name": "stdout",
     "output_type": "stream",
     "text": [
      "Cluster is being deleted...\n",
      "Cluster is being deleted...\n",
      "Cluster is being deleted...\n",
      "Cluster is being deleted...\n",
      "Cluster is being deleted...\n",
      "Cluster is being deleted...\n",
      "Cluster is being deleted...\n",
      "An error occurred (ClusterNotFound) when calling the DescribeClusters operation: Cluster dwhcluster not found.\n",
      "Cluster is deleted\n"
     ]
    }
   ],
   "source": [
    "import time\n",
    "\n",
    "try:\n",
    "    while redshift.describe_clusters(ClusterIdentifier=CLUSTER_NAME)['Clusters'][0]['ClusterStatus'] != 'available':\n",
    "        if VERBOSE > 0:\n",
    "            print(\"Cluster is being deleted...\")\n",
    "        time.sleep(10)\n",
    "except Exception as e:\n",
    "    if VERBOSE > 0:\n",
    "        print(e)\n",
    "\n",
    "print('Cluster is deleted')\n"
   ]
  },
  {
   "cell_type": "markdown",
   "metadata": {},
   "source": [
    "## STEP-5: Detach the IAM Role and Policy"
   ]
  },
  {
   "cell_type": "code",
   "execution_count": 7,
   "metadata": {},
   "outputs": [
    {
     "data": {
      "text/plain": [
       "{'ResponseMetadata': {'RequestId': 'c0562625-92eb-4b31-8870-e055b6c1a5c2',\n",
       "  'HTTPStatusCode': 200,\n",
       "  'HTTPHeaders': {'x-amzn-requestid': 'c0562625-92eb-4b31-8870-e055b6c1a5c2',\n",
       "   'content-type': 'text/xml',\n",
       "   'content-length': '200',\n",
       "   'date': 'Thu, 08 Jun 2023 22:15:56 GMT'},\n",
       "  'RetryAttempts': 0}}"
      ]
     },
     "execution_count": 7,
     "metadata": {},
     "output_type": "execute_result"
    }
   ],
   "source": [
    "#### CAREFUL!!\n",
    "#-- Uncomment & run to delete the created resources\n",
    "iam.detach_role_policy(RoleName=AWS_RESOURCE_NAME, PolicyArn=\"arn:aws:iam::aws:policy/AmazonS3ReadOnlyAccess\")\n",
    "iam.delete_role(RoleName=AWS_RESOURCE_NAME)\n",
    "#### CAREFUL!!"
   ]
  },
  {
   "cell_type": "code",
   "execution_count": null,
   "metadata": {},
   "outputs": [],
   "source": []
  }
 ],
 "metadata": {
  "kernelspec": {
   "display_name": "Python 3",
   "language": "python",
   "name": "python3"
  },
  "language_info": {
   "codemirror_mode": {
    "name": "ipython",
    "version": 3
   },
   "file_extension": ".py",
   "mimetype": "text/x-python",
   "name": "python",
   "nbconvert_exporter": "python",
   "pygments_lexer": "ipython3",
   "version": "3.6.3"
  },
  "toc": {
   "base_numbering": 1,
   "nav_menu": {},
   "number_sections": true,
   "sideBar": true,
   "skip_h1_title": false,
   "title_cell": "Table of Contents",
   "title_sidebar": "Contents",
   "toc_cell": false,
   "toc_position": {},
   "toc_section_display": true,
   "toc_window_display": false
  },
  "toc-autonumbering": false,
  "toc-showcode": false,
  "toc-showmarkdowntxt": false,
  "toc-showtags": false
 },
 "nbformat": 4,
 "nbformat_minor": 2
}
